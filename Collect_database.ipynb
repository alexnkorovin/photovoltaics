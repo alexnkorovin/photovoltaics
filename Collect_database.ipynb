{
 "cells": [
  {
   "cell_type": "code",
   "execution_count": null,
   "id": "492aa38e-8405-4bba-b8c9-d7b1180c487b",
   "metadata": {},
   "outputs": [],
   "source": [
    "# conda install -c conda-forge mat-miner"
   ]
  },
  {
   "cell_type": "code",
   "execution_count": 2,
   "id": "aef001e5-b5d7-4122-bfa3-cc2fab744c17",
   "metadata": {},
   "outputs": [],
   "source": [
    "import pandas as pd\n",
    "import numpy as np\n",
    "import re\n",
    "import csv\n",
    "import requests\n",
    "import os\n",
    "import warnings\n",
    "\n",
    "warnings.filterwarnings('ignore')\n",
    "from matminer.data_retrieval.retrieve_MP import MPDataRetrieval\n",
    "#from matminer.data_retrieval.retrieve_Citrine import CitrineDataRetrieval\n",
    "pd.set_option('display.max_columns', None)"
   ]
  },
  {
   "cell_type": "code",
   "execution_count": 5,
   "id": "28ac0533-9072-424c-9b62-14bcb001a418",
   "metadata": {},
   "outputs": [
    {
     "name": "stderr",
     "output_type": "stream",
     "text": [
      "100%|████████████████████████████████████████████████████████████████████████████████████████████████████████████████████████████████████████████████████████████████████████████| 126335/126335 [13:15<00:00, 158.88it/s]\n"
     ]
    }
   ],
   "source": [
    "#Data mining from Materials Project\n",
    "df_mp = (\n",
    "    MPDataRetrieval(api_key=\"pXqDFffMQGxF4BC910x\").get_dataframe(criteria={} ,\n",
    "         properties=\n",
    "            ['band_gap',\n",
    "             'formula',\n",
    "             'structure',\n",
    "             'spacegroup',\n",
    "             'e_above_hull',\n",
    "             'elements',\n",
    "             'spacegroup.number']\n",
    "        )\n",
    ")\n",
    "\n",
    "df_mp.to_csv('ds_PV.csv')"
   ]
  },
  {
   "cell_type": "code",
   "execution_count": 1,
   "id": "9a05da68-adb1-4791-86f1-80d282b319fa",
   "metadata": {},
   "outputs": [],
   "source": [
    "#Data pre-processing\n",
    "ds = pd.read_csv('ds_PV.csv')\n",
    "ds = ds[ds['band_gap'] >= 0.5]\n",
    "ds = ds[ds['band_gap'] < 4]\n",
    "ds\n",
    "row = []\n",
    "regex = r\"^(Full Formula\\s+\\()(.+)\\)\"\n",
    " \n",
    "\n",
    "def hasFormula(formula, spacegroup,id):\n",
    " \n",
    "\tm = re.search(regex, formula)\n",
    "\tif m:\n",
    "    \tprint(m.group(2))\n",
    " \n",
    " \n",
    "d = ds.apply(lambda x: hasFormula(x['structure'], x.spacegroup, x.name), axis=1)\n",
    "row = []\n",
    "regex = r\"^(Full Formula\\s+\\()(.+)\\)\"\n",
    "regex_spacegroup=r\"(.*symbol\\':\\s+\\')(\\S+)(\\'.+)\"\n",
    " \n",
    "def hasFormula(formula, spacegroup,id):\n",
    " \n",
    "\tm = re.search(regex, formula)\n",
    "\ts = re.search(regex_spacegroup,spacegroup)\n",
    "\tif m:\n",
    "    \tprint(\"formula: \", m.group(2))\n",
    "\tif s:\n",
    "    \tprint(\"spacegroup: \", s.group(2))\n",
    " \n",
    " \n",
    " \n",
    "d = ds.apply(lambda x: hasFormula(x['structure'], x.spacegroup, x.name), axis=1)\n",
    "def filter_structure(structure):\n",
    "\tm = re.search(regex, structure)\n",
    "\tif m:\n",
    "    \treturn m.group(2)\n",
    "\treturn \"No\"\n",
    "ds[\"new_formula\"] = ds[\"structure\"].map(lambda f: filter_structure(f))\n",
    "ds\n",
    " "
   ]
  },
  {
   "cell_type": "code",
   "execution_count": 9,
   "id": "f6109a27-e25f-4364-8b50-075e938bcdde",
   "metadata": {},
   "outputs": [],
   "source": [
    "ds_MP = pd.read_csv('ds_PV.csv', chunksize=100)"
   ]
  },
  {
   "cell_type": "code",
   "execution_count": 14,
   "id": "f4e6e553-6b4c-4965-b1d7-c31349410b9e",
   "metadata": {},
   "outputs": [],
   "source": [
    "ds_MP_chunk = next(ds_MP)"
   ]
  },
  {
   "cell_type": "code",
   "execution_count": 35,
   "id": "e3dd60de-602b-4456-a5f6-19cc3b3e38ea",
   "metadata": {},
   "outputs": [
    {
     "data": {
      "text/html": [
       "<div>\n",
       "<style scoped>\n",
       "    .dataframe tbody tr th:only-of-type {\n",
       "        vertical-align: middle;\n",
       "    }\n",
       "\n",
       "    .dataframe tbody tr th {\n",
       "        vertical-align: top;\n",
       "    }\n",
       "\n",
       "    .dataframe thead th {\n",
       "        text-align: right;\n",
       "    }\n",
       "</style>\n",
       "<table border=\"1\" class=\"dataframe\">\n",
       "  <thead>\n",
       "    <tr style=\"text-align: right;\">\n",
       "      <th></th>\n",
       "      <th>material_id</th>\n",
       "      <th>band_gap</th>\n",
       "      <th>formula</th>\n",
       "      <th>structure</th>\n",
       "      <th>spacegroup</th>\n",
       "      <th>e_above_hull</th>\n",
       "      <th>elements</th>\n",
       "      <th>spacegroup.number</th>\n",
       "    </tr>\n",
       "  </thead>\n",
       "  <tbody>\n",
       "    <tr>\n",
       "      <th>0</th>\n",
       "      <td>mp-1002206</td>\n",
       "      <td>0.0</td>\n",
       "      <td>{'Si': 1.0, 'C': 1.0}</td>\n",
       "      <td>Full Formula (Si1 C1)\\nReduced Formula: SiC\\na...</td>\n",
       "      <td>{'symprec': 0.1, 'source': 'spglib', 'symbol':...</td>\n",
       "      <td>0.742811</td>\n",
       "      <td>['Si', 'C']</td>\n",
       "      <td>225</td>\n",
       "    </tr>\n",
       "  </tbody>\n",
       "</table>\n",
       "</div>"
      ],
      "text/plain": [
       "  material_id  band_gap                formula  \\\n",
       "0  mp-1002206       0.0  {'Si': 1.0, 'C': 1.0}   \n",
       "\n",
       "                                           structure  \\\n",
       "0  Full Formula (Si1 C1)\\nReduced Formula: SiC\\na...   \n",
       "\n",
       "                                          spacegroup  e_above_hull  \\\n",
       "0  {'symprec': 0.1, 'source': 'spglib', 'symbol':...      0.742811   \n",
       "\n",
       "      elements  spacegroup.number  \n",
       "0  ['Si', 'C']                225  "
      ]
     },
     "execution_count": 35,
     "metadata": {},
     "output_type": "execute_result"
    }
   ],
   "source": [
    "ds_MP_chunk.head(1)"
   ]
  },
  {
   "cell_type": "code",
   "execution_count": 31,
   "id": "b8ec5d2a-7138-4d6d-b27a-2fd7975d63fd",
   "metadata": {},
   "outputs": [],
   "source": [
    "id = ds_MP_chunk.head(1)['material_id'].astype('str')"
   ]
  },
  {
   "cell_type": "code",
   "execution_count": 32,
   "id": "57074d3a-b3a3-4845-a036-d462678d58e9",
   "metadata": {},
   "outputs": [
    {
     "data": {
      "text/plain": [
       "0    mp-1002206\n",
       "Name: material_id, dtype: object"
      ]
     },
     "execution_count": 32,
     "metadata": {},
     "output_type": "execute_result"
    }
   ],
   "source": []
  },
  {
   "cell_type": "code",
   "execution_count": null,
   "id": "4fb8bf21-bf96-4c24-a21e-886a0b8c2eb8",
   "metadata": {},
   "outputs": [],
   "source": [
    "#Get cif\n",
    "\n",
    "file = open(\"theory_21_02.csv\")\n",
    "csvreader = csv.reader(file)\n",
    "header = next(csvreader)\n",
    "for row in csvreader:\n",
    "    id = row[5]\n",
    "    r = requests.get('https://materialsproject.org/materials/' + 'mp-1002206' + '/cif?computed&download=true')\n",
    "    open(\"cif_theory/\" + id + '.cif', 'wb').write(r.content)\n",
    " \n",
    "file.close()\n",
    "\n",
    "with open('cif/test.cif', 'w') as f:\n",
    "    f.write(str(r.content))\n",
    "df = pd.read_csv(\"theory_21_02.csv\")\n",
    "new_data=df.copy()\n",
    "def get_id(mp):\n",
    "    r=requests.get(\"https://materialsproject.org/rest/v2/materials/%s/vasp?API_KEY=VujoLAibQxL0y7Ii\"%mp)\n",
    "    if r.status_code == 200:\n",
    "        res=r.json()\n",
    "        if len(res[\"response\"]) >0:\n",
    "            icsd_ids=res[\"response\"][0][\"icsd_ids\"]\n",
    "            if len(icsd_ids)>0:\n",
    "                return icsd_ids[0]\n",
    "    return 0\n",
    "new_data[\"icsd_id\"]=new_data[\"material_id\"].apply(lambda x:get_id(x))\n",
    "new_data.to_csv(\"theory_22_02.csv\")"
   ]
  },
  {
   "cell_type": "code",
   "execution_count": 43,
   "id": "88c3713d-bb92-4c11-b34a-0182f811fe10",
   "metadata": {},
   "outputs": [
    {
     "data": {
      "text/plain": [
       "'mp-1002206'"
      ]
     },
     "execution_count": 43,
     "metadata": {},
     "output_type": "execute_result"
    }
   ],
   "source": [
    "str(id[0])"
   ]
  },
  {
   "cell_type": "code",
   "execution_count": 40,
   "id": "6a42b60b-2bae-4395-ae91-03e417c00075",
   "metadata": {},
   "outputs": [],
   "source": [
    "#Get cif\n",
    "\n",
    "r = requests.get('https://materialsproject.org/materials/' + 'mp-1002206' + '/cif?computed&download=true')\n",
    " \n",
    "with open('mp-1002206.cif', 'w') as f:\n",
    "    f.write(str(r.content))"
   ]
  },
  {
   "cell_type": "code",
   "execution_count": null,
   "id": "d0f02f9e-113f-431f-a0e5-1cb2cce8e66e",
   "metadata": {},
   "outputs": [],
   "source": [
    "#Get cif\n",
    "file = open(\"theory_21_02.csv\")\n",
    "csvreader = csv.reader(file)\n",
    "header = next(csvreader)\n",
    "for row in csvreader:\n",
    "\tid = row[5]\n",
    "\tr = requests.get('https://materialsproject.org/materials/' + id + '/cif?computed&download=true')\n",
    "    open(\"cif_theory/\" + id + '.cif', 'wb').write(r.content)\n",
    " \n",
    "file.close()\n",
    "\n",
    "with open('cif/test.cif', 'w') as f:\n",
    "    f.write(str(r.content))\n",
    "    \n",
    "df = pd.read_csv(\"theory_21_02.csv\")\n",
    "new_data=df.copy()\n",
    "def get_id(mp):\n",
    "    r=requests.get(\"https://materialsproject.org/rest/v2/materials/%s/vasp?API_KEY=VujoLAibQxL0y7Ii\"%mp)\n",
    "\tif r.status_code == 200:\n",
    "    \tres=r.json()\n",
    "    \tif len(res[\"response\"]) >0:\n",
    "            icsd_ids=res[\"response\"][0][\"icsd_ids\"]\n",
    "        \tif len(icsd_ids)>0:\n",
    "                return icsd_ids[0]\n",
    "\treturn 0\n",
    "new_data[\"icsd_id\"]=new_data[\"material_id\"].apply(lambda x:get_id(x))\n",
    "new_data.to_csv(\"theory_22_02.csv\")\n"
   ]
  },
  {
   "cell_type": "markdown",
   "id": "5f0f381b-11ea-4bb8-b2a0-b9ff78de30fc",
   "metadata": {},
   "source": [
    "#### Import data from Jarvis"
   ]
  },
  {
   "cell_type": "code",
   "execution_count": 16,
   "id": "16ce044e-b547-414f-a4fb-cfa5b50236ae",
   "metadata": {},
   "outputs": [],
   "source": [
    "import ast\n",
    "import numpy as np\n",
    "import pandas as pd\n",
    "import pickle\n",
    "import matplotlib.pyplot as plt\n",
    "import zlib\n",
    "pd.set_option('display.max_columns', None)\n",
    "%matplotlib inline"
   ]
  },
  {
   "cell_type": "code",
   "execution_count": 17,
   "id": "460702b3-8428-42e2-ae5c-83b4ec3dc643",
   "metadata": {},
   "outputs": [],
   "source": [
    "with open('Jarvis/ENdiele-20.json','r') as f:\n",
    "    file = f.read()"
   ]
  },
  {
   "cell_type": "code",
   "execution_count": null,
   "id": "fde243c6-eee5-4d2d-90a1-9b82fd146caa",
   "metadata": {},
   "outputs": [],
   "source": [
    "# evaluate list as str -> list as object\n",
    "file = ast.literal_eval(file)"
   ]
  },
  {
   "cell_type": "code",
   "execution_count": null,
   "id": "3f6c9f12-b315-4cc5-a0cf-f7c7a015f86d",
   "metadata": {},
   "outputs": [],
   "source": [
    "print(file[0])"
   ]
  },
  {
   "cell_type": "code",
   "execution_count": null,
   "id": "f27a86a3-1925-4afb-8b59-9d83410a7d36",
   "metadata": {},
   "outputs": [],
   "source": [
    "df = pd.DataFrame.from_records(file)"
   ]
  },
  {
   "cell_type": "code",
   "execution_count": 84,
   "id": "5497d45c-7102-4db9-aea7-758f23617855",
   "metadata": {},
   "outputs": [],
   "source": [
    "with open('Jarvis/ENdiele-20.zpkl', 'wb') as f:\n",
    "    f.write(zlib.compress(pickle.dumps(df)))"
   ]
  },
  {
   "cell_type": "code",
   "execution_count": 4,
   "id": "24220cc7-de8d-448a-ac3e-f4744378018a",
   "metadata": {},
   "outputs": [],
   "source": [
    "df = pd.read_pickle('Jarvis/ENdiele-20.pkl')"
   ]
  },
  {
   "cell_type": "code",
   "execution_count": 5,
   "id": "5f4a9258-9c61-46b7-92dc-15d2d7e0941f",
   "metadata": {},
   "outputs": [
    {
     "data": {
      "text/plain": [
       "['cif',\n",
       " 'jid',\n",
       " 'mbj_dos_enenrgies',\n",
       " 'mbj_dos_up',\n",
       " 'mbj_en',\n",
       " 'mbj_gap',\n",
       " 'mbj_imagxx',\n",
       " 'mbj_imagxy',\n",
       " 'mbj_imagyy',\n",
       " 'mbj_imagyz',\n",
       " 'mbj_imagzx',\n",
       " 'mbj_imagzz',\n",
       " 'mbj_realxx',\n",
       " 'mbj_realxy',\n",
       " 'mbj_realyy',\n",
       " 'mbj_realyz',\n",
       " 'mbj_realzx',\n",
       " 'mbj_realzz',\n",
       " 'mbj_totcputime_per_core',\n",
       " 'mpid',\n",
       " 'opt_dos_enenrgies',\n",
       " 'opt_dos_energies',\n",
       " 'opt_dos_up',\n",
       " 'opt_en',\n",
       " 'opt_gap',\n",
       " 'opt_imagxx',\n",
       " 'opt_imagxy',\n",
       " 'opt_imagyy',\n",
       " 'opt_imagyz',\n",
       " 'opt_imagzx',\n",
       " 'opt_imagzz',\n",
       " 'opt_realxx',\n",
       " 'opt_realxy',\n",
       " 'opt_realyy',\n",
       " 'opt_realyz',\n",
       " 'opt_realzx',\n",
       " 'opt_realzz',\n",
       " 'opt_totcputime_per_core']"
      ]
     },
     "execution_count": 5,
     "metadata": {},
     "output_type": "execute_result"
    }
   ],
   "source": [
    "sorted(list(df.columns))"
   ]
  },
  {
   "cell_type": "code",
   "execution_count": 15,
   "id": "a81e2c7c-40e2-4b6f-89c2-b1ae3c0c1ec8",
   "metadata": {},
   "outputs": [
    {
     "data": {
      "text/plain": [
       "<bound method Series.dropna of 0      na\n",
       "1      na\n",
       "2      na\n",
       "3      na\n",
       "4      na\n",
       "       ..\n",
       "280    na\n",
       "281    na\n",
       "282    na\n",
       "283    na\n",
       "284    na\n",
       "Name: mbj_imagxx, Length: 285, dtype: object>"
      ]
     },
     "execution_count": 15,
     "metadata": {},
     "output_type": "execute_result"
    }
   ],
   "source": [
    "dfx = df.loc[:, 'mbj_imagxx'].dropna"
   ]
  },
  {
   "cell_type": "code",
   "execution_count": 48,
   "id": "2e25bf4d-cf1a-4815-9be0-df1232f0d116",
   "metadata": {},
   "outputs": [],
   "source": [
    "# get all columns' names with specific mask xxx_type for DataFrame\n",
    "\n",
    "def get_xxx_types(df: pd.DataFrame, xxx_type_mask: str) -> list:\n",
    "    return [col for col in list(df.columns) if col[:8] == xxx_type_mask]"
   ]
  },
  {
   "cell_type": "code",
   "execution_count": 49,
   "id": "a681e2b1-10fe-49f0-940f-307804baae9e",
   "metadata": {},
   "outputs": [],
   "source": [
    "# get xxx_type -> Y for specific column and mpid\n",
    "\n",
    "def get_data_YY(df: pd.DataFrame, mpid:str, xxx_type: str) -> list:\n",
    "    return list(df[df['mpid'] == mpid][xxx_type])[0]"
   ]
  },
  {
   "cell_type": "code",
   "execution_count": 63,
   "id": "2ae8fb3a-8c61-4704-af7f-f13c2e8c796c",
   "metadata": {},
   "outputs": [],
   "source": [
    "# build graphs for all specific xxx_types: \n",
    "\n",
    "def plot_xxx_type(df:pd.DataFrame, xxx_type_mask:str, mpid: str):\n",
    "    \n",
    "    xxx_type_cols = get_xxx_types(df, xxx_type_mask)\n",
    "    xxx_type_YYs = [get_data_YY(df, mpid, col) for col in xxx_type_cols]    \n",
    "    \n",
    "    for x in xxx_type_YYs:\n",
    "        # print('xxx_type', type(x), x[0])\n",
    "        plt.plot(x)\n",
    "        plt.yscale('log')\n",
    "        plt.legend(xxx_type_cols)\n",
    "        plt.title(xxx_type_mask)\n",
    "    plt.show()"
   ]
  },
  {
   "cell_type": "code",
   "execution_count": 64,
   "id": "9cedd66d-33c7-445d-bc6d-eb8d2595b04e",
   "metadata": {},
   "outputs": [],
   "source": [
    "mpid = 'mp-764221'"
   ]
  },
  {
   "cell_type": "code",
   "execution_count": 65,
   "id": "4a0a6db8-feb1-478b-a137-6f3fe6d43908",
   "metadata": {},
   "outputs": [],
   "source": [
    "xxx_types = ['opt_real','opt_imag','mbj_real','mbj_imag']"
   ]
  },
  {
   "cell_type": "code",
   "execution_count": null,
   "id": "409b57bb-7fc5-45ac-b302-31f9577f33d0",
   "metadata": {},
   "outputs": [],
   "source": [
    "for x in xxx_types:\n",
    "    plot_xxx_type(df, x, mpid)"
   ]
  },
  {
   "cell_type": "code",
   "execution_count": 70,
   "id": "76ea19a9-ed9e-4499-876a-21431fcc498b",
   "metadata": {},
   "outputs": [],
   "source": [
    "# build graphs for all specific xxx_types: \n",
    "\n",
    "def plot_xxx_type(df:pd.DataFrame, xxx_type_mask:str, mpid: str):\n",
    "    \n",
    "    xxx_type_cols = get_xxx_types(df, xxx_type_mask)\n",
    "    xxx_type_YYs = [get_data_YY(df, mpid, col) for col in xxx_type_cols]\n",
    "    \n",
    "    plt.plot(x)\n",
    "    plt.yscale('log')\n",
    "    plt.legend(xxx_type_cols)\n",
    "    plt.title(xxx_type_mask)\n",
    "    \n",
    "    return xxx_type_cols, xxx_type_YYs"
   ]
  },
  {
   "cell_type": "code",
   "execution_count": 71,
   "id": "e297c263-fe49-470f-8e91-db8aadcd4159",
   "metadata": {},
   "outputs": [
    {
     "name": "stderr",
     "output_type": "stream",
     "text": [
      "/var/folders/r0/sh_xx3ms6_j0__w1_7f87p540000gq/T/ipykernel_95082/539847952.py:9: UserWarning: Data has no positive values, and therefore cannot be log-scaled.\n",
      "  plt.yscale('log')\n",
      "/usr/local/Caskroom/miniforge/base/envs/env_py39/lib/python3.9/site-packages/matplotlib_inline/backend_inline.py:234: UserWarning: Data has no positive values, and therefore cannot be log-scaled.\n",
      "  for label in axis.get_ticklabels()])\n"
     ]
    },
    {
     "data": {
      "image/png": "[encoded data removed]",
      "text/plain": [
       "<Figure size 432x288 with 4 Axes>"
      ]
     },
     "metadata": {
      "needs_background": "light"
     },
     "output_type": "display_data"
    }
   ],
   "source": [
    "fig, axs = plt.subplots(2, 2)\n",
    "y, legend = plot_xxx_type(df, xxx_types[0], mpid)\n",
    "plt.legend(xxx_type_cols)\n",
    "plt.title(xxx_type_mask)\n",
    "axs[0, 0].plot(y)\n",
    "axs[0, 1].plot(y)\n",
    "axs[1, 0].plot(y)\n",
    "axs[1, 1].plot(y)\n",
    "for ax in axs:\n",
    "    plot_xxx_type(df, x, mpid)"
   ]
  },
  {
   "cell_type": "code",
   "execution_count": 77,
   "id": "85cf47e1-79ff-45c6-85b0-00f1e0134c1b",
   "metadata": {},
   "outputs": [
    {
     "name": "stdout",
     "output_type": "stream",
     "text": [
      "2\n"
     ]
    },
    {
     "data": {
      "image/png": "[encoded data removed]",
      "text/plain": [
       "<Figure size 432x288 with 4 Axes>"
      ]
     },
     "metadata": {
      "needs_background": "light"
     },
     "output_type": "display_data"
    }
   ],
   "source": [
    "fig, axs = plt.subplots(2, 2)\n",
    "print(len(axs))"
   ]
  },
  {
   "cell_type": "code",
   "execution_count": null,
   "id": "ffc71a71-d114-4292-bbee-65e79204d5a8",
   "metadata": {},
   "outputs": [],
   "source": [
    "fig, axs = plt.subplots(2, 2)\n",
    "axs[0, 0].plot(x, y)\n",
    "axs[0, 0].set_title('Axis [0, 0]')\n",
    "axs[0, 1].plot(x, y, 'tab:orange')\n",
    "axs[0, 1].set_title('Axis [0, 1]')\n",
    "axs[1, 0].plot(x, -y, 'tab:green')\n",
    "axs[1, 0].set_title('Axis [1, 0]')\n",
    "axs[1, 1].plot(x, -y, 'tab:red')\n",
    "axs[1, 1].set_title('Axis [1, 1]')\n",
    "\n",
    "for ax in axs.flat:\n",
    "    ax.set(xlabel='x-label', ylabel='y-label')\n",
    "\n",
    "# Hide x labels and tick labels for top plots and y ticks for right plots.\n",
    "for ax in axs.flat:\n",
    "    ax.label_outer()"
   ]
  },
  {
   "cell_type": "code",
   "execution_count": null,
   "id": "33d85531-e274-42d7-a42b-241e4f12e5b7",
   "metadata": {},
   "outputs": [],
   "source": [
    "Jarvis join Experimental"
   ]
  },
  {
   "cell_type": "code",
   "execution_count": null,
   "id": "759cf9f1-decb-46a9-a06b-633d7c8fe4fe",
   "metadata": {},
   "outputs": [],
   "source": []
  }
 ],
 "metadata": {
  "kernelspec": {
   "display_name": "Python 3 (ipykernel)",
   "language": "python",
   "name": "python3"
  },
  "language_info": {
   "codemirror_mode": {
    "name": "ipython",
    "version": 3
   },
   "file_extension": ".py",
   "mimetype": "text/x-python",
   "name": "python",
   "nbconvert_exporter": "python",
   "pygments_lexer": "ipython3",
   "version": "3.9.7"
  }
 },
 "nbformat": 4,
 "nbformat_minor": 5
}
