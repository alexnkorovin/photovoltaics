{
 "cells": [
  {
   "cell_type": "code",
   "execution_count": 25,
   "id": "7a918630",
   "metadata": {},
   "outputs": [],
   "source": [
    "import os\n",
    "import lmdb\n",
    "import pickle\n",
    "import numpy as np\n",
    "import pymatgen\n",
    "import torch\n",
    "from pymatgen.core import Structure\n",
    "from pymatgen.symmetry.groups import SpaceGroup\n",
    "import pandas as pd\n",
    "from tqdm.notebook import tqdm\n",
    "import re\n",
    "from ocpmodels.datasets import SinglePointLmdbDataset\n",
    "import zlib\n",
    "from DataClasses import lmdb_dataset"
   ]
  },
  {
   "cell_type": "code",
   "execution_count": 29,
   "id": "7c2f3be0",
   "metadata": {
    "scrolled": false
   },
   "outputs": [
    {
     "name": "stdout",
     "output_type": "stream",
     "text": [
      "             band_gap  e_above_hull new_structure  space_group\n",
      "material_id                                                   \n",
      "mp-1080341     0.7132      0.517625      Ce8 Se16          132\n",
      "mp-1219167     1.7192      0.215818        Sm2 O3          115\n",
      "mp-1244922     0.6826      0.417091      Zn50 S50            1\n",
      "mp-700         0.8969      0.000000       Ge4 Se4           62\n",
      "mp-8956        0.6120      0.007877       Ho8 S12           62\n"
     ]
    },
    {
     "data": {
      "application/vnd.jupyter.widget-view+json": {
       "model_id": "7c76768be96a431e9a1282dfde4ffeb7",
       "version_major": 2,
       "version_minor": 0
      },
      "text/plain": [
       "  0%|          | 0/2032 [00:00<?, ?it/s]"
      ]
     },
     "metadata": {},
     "output_type": "display_data"
    },
    {
     "name": "stderr",
     "output_type": "stream",
     "text": [
      "/Users/Eremin/opt/anaconda3/envs/ocp-models/lib/python3.8/site-packages/pymatgen/io/cif.py:1193: UserWarning: Issues encountered while parsing CIF: Some fractional co-ordinates rounded to ideal values to avoid issues with finite precision.\n",
      "  warnings.warn(\n"
     ]
    }
   ],
   "source": [
    "additional_data = pd.read_csv('binary_final.csv', index_col=0).set_index('material_id')\n",
    "additional_data['space_group'] = list(map(lambda x: SpaceGroup(x).int_number, additional_data['space_group']))\n",
    "print(additional_data.head())\n",
    "\n",
    "dataset_target = lmdb.open(\n",
    "    'structures.lmdbz',\n",
    "    map_size=int(1e9*50), #~ 50 Gbyte\n",
    "    subdir=False,\n",
    "    meminit=False,\n",
    "    map_async=True,)\n",
    "\n",
    "for idx, file in enumerate(tqdm(os.listdir('cif_filtered/'))):\n",
    "    \n",
    "    #print(new_data_key)\n",
    "    if re.sub('\\.cif','', file) in additional_data.index:\n",
    "        txn = dataset_target.begin(write=True)\n",
    "        data = {}\n",
    "        BG, energy_above_hull, composition, space_group = additional_data.loc[re.sub('\\.cif','', file)].values\n",
    "        struct = Structure.from_file('cif_filtered/'+file)\n",
    "        data['sid'] = re.sub('\\.cif','', file)\n",
    "        data['cell'] = torch.tensor([struct.lattice.matrix])\n",
    "        data['natoms'] = torch.tensor([len(struct)])\n",
    "        data['atomic_numbers'] = torch.tensor(np.array(list(map(lambda x: x.Z, struct.species))))\n",
    "        data['pos'] = torch.tensor(np.array([x.coords for x in struct]))\n",
    "        data['band_gap'] = torch.tensor([BG])\n",
    "        data['energy_above_hull'] = torch.tensor([energy_above_hull])\n",
    "        #data['composition'] = torch.tensor(composition)\n",
    "        data['space_group'] = torch.tensor([space_group])\n",
    "        #print(data)\n",
    "        txn.put(f\"{idx}\".encode(\"ascii\"),\n",
    "                zlib.compress(pickle.dumps(data, protocol=-1), level=1))\n",
    "        txn.commit()\n",
    "        dataset_target.sync()\n",
    "    else :\n",
    "        print(file, 'was not found in binary_final.csv')\n",
    "        \n",
    "dataset_target.close() "
   ]
  },
  {
   "cell_type": "code",
   "execution_count": 30,
   "id": "42ae93a7",
   "metadata": {},
   "outputs": [
    {
     "name": "stdout",
     "output_type": "stream",
     "text": [
      "{'map_addr': 0, 'map_size': 10485760, 'last_pgno': 1112, 'last_txnid': 24384, 'max_readers': 1000, 'num_readers': 0}\n"
     ]
    },
    {
     "data": {
      "text/plain": [
       "{'sid': 'mp-9588',\n",
       " 'cell': tensor([[[ 4.9319e+00,  0.0000e+00, -2.6396e+00],\n",
       "          [-3.0435e-16,  4.9704e+00,  3.0435e-16],\n",
       "          [ 0.0000e+00,  0.0000e+00,  1.0251e+01]]], dtype=torch.float64),\n",
       " 'natoms': tensor([16]),\n",
       " 'atomic_numbers': tensor([ 3,  3,  3,  3,  3,  3,  3,  3, 15, 15, 15, 15, 15, 15, 15, 15]),\n",
       " 'pos': tensor([[ 1.0703,  1.9297,  2.8028],\n",
       "         [ 3.8617,  4.4149, -0.3170],\n",
       "         [ 3.8617,  3.0406,  4.8084],\n",
       "         [ 1.0703,  0.5555,  7.9281],\n",
       "         [ 1.1135,  3.2721, -0.2906],\n",
       "         [ 3.8185,  0.7869,  2.7764],\n",
       "         [ 3.8185,  1.6983,  7.9018],\n",
       "         [ 1.1135,  4.1835,  4.8348],\n",
       "         [ 1.5617,  4.4480,  2.1668],\n",
       "         [ 3.3703,  1.9628,  0.3190],\n",
       "         [ 3.3703,  0.5224,  5.4444],\n",
       "         [ 1.5617,  3.0076,  7.2922],\n",
       "         [ 1.4953,  0.7755,  0.3452],\n",
       "         [ 3.4367,  3.2607,  2.1406],\n",
       "         [ 3.4367,  4.1949,  7.2660],\n",
       "         [ 1.4953,  1.7097,  5.4705]], dtype=torch.float64),\n",
       " 'band_gap': tensor([0.8537], dtype=torch.float64),\n",
       " 'energy_above_hull': tensor([0.], dtype=torch.float64),\n",
       " 'space_group': tensor([14])}"
      ]
     },
     "execution_count": 30,
     "metadata": {},
     "output_type": "execute_result"
    }
   ],
   "source": [
    "data = lmdb_dataset('structures.lmdbz')\n",
    "data[0]"
   ]
  },
  {
   "cell_type": "code",
   "execution_count": null,
   "id": "adf13603",
   "metadata": {},
   "outputs": [],
   "source": []
  }
 ],
 "metadata": {
  "kernelspec": {
   "display_name": "Python 3",
   "language": "python",
   "name": "python3"
  },
  "language_info": {
   "codemirror_mode": {
    "name": "ipython",
    "version": 3
   },
   "file_extension": ".py",
   "mimetype": "text/x-python",
   "name": "python",
   "nbconvert_exporter": "python",
   "pygments_lexer": "ipython3",
   "version": "3.8.10"
  }
 },
 "nbformat": 4,
 "nbformat_minor": 5
}
