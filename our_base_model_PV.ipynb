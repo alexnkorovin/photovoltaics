{
 "cells": [
  {
   "cell_type": "markdown",
   "id": "7f595285-7cd2-42c2-8622-54f65926c049",
   "metadata": {},
   "source": [
    "## Utils and definitions"
   ]
  },
  {
   "cell_type": "code",
   "execution_count": 1,
   "id": "11d618c1-7bd7-4b54-b5c6-cd8fab531f12",
   "metadata": {
    "tags": []
   },
   "outputs": [],
   "source": [
    "import os\n",
    "import pickle\n",
    "import sys\n",
    "\n",
    "import numpy as np\n",
    "import pandas as pd\n",
    "\n",
    "import torch\n",
    "import torch.nn.functional as F\n",
    "import torch_geometric.nn as pyg_nn\n",
    "import torch_geometric.utils as pyg_utils\n",
    "import torch.optim as optim\n",
    "\n",
    "\n",
    "from datetime import datetime\n",
    "from sklearn.model_selection import train_test_split\n",
    "from torch import nn\n",
    "from torch_geometric.data import Data, Dataset, DataLoader\n",
    "from torch_geometric.nn import MessagePassing\n",
    "from torch_geometric.utils import add_self_loops\n",
    "from torch_scatter import scatter\n",
    "from torch.utils.tensorboard import SummaryWriter"
   ]
  },
  {
   "cell_type": "code",
   "execution_count": 2,
   "id": "00ff967c-f351-4f61-97d4-1009ca24ef23",
   "metadata": {},
   "outputs": [
    {
     "name": "stdout",
     "output_type": "stream",
     "text": [
      "['/Users/korovin/Documents/GitHub/pv_skoltech', '/usr/local/Caskroom/miniforge/base/envs/ocp_models/lib/python38.zip', '/usr/local/Caskroom/miniforge/base/envs/ocp_models/lib/python3.8', '/usr/local/Caskroom/miniforge/base/envs/ocp_models/lib/python3.8/lib-dynload', '', '/usr/local/Caskroom/miniforge/base/envs/ocp_models/lib/python3.8/site-packages', '/usr/local/Caskroom/miniforge/base/envs/ocp_models/lib/python3.8/site-packages/IPython/extensions', '/Users/korovin/.ipython', '/Users/korovin/Documents/GitHub/']\n"
     ]
    }
   ],
   "source": [
    "sys.path.append(os.path.expanduser(\"~/Documents/GitHub/\"))\n",
    "print(sys.path)\n",
    "from ocp_airi.airi_utils.DataClasses import lmdb_dataset"
   ]
  },
  {
   "cell_type": "code",
   "execution_count": 3,
   "id": "d50430de",
   "metadata": {
    "tags": []
   },
   "outputs": [],
   "source": [
    "def my_reshape(tensor):\n",
    "    return torch.reshape(tensor, (tensor.shape[0], 1))"
   ]
  },
  {
   "cell_type": "code",
   "execution_count": 4,
   "id": "3099636a-c3a8-4bf5-86f8-4983eba165c6",
   "metadata": {},
   "outputs": [],
   "source": [
    "#чтобы тензор по умолчанию заводился на куде\n",
    "if torch.cuda.is_available():\n",
    "    torch.set_default_tensor_type('torch.cuda.FloatTensor')\n",
    "    print('cuda')"
   ]
  },
  {
   "cell_type": "code",
   "execution_count": 5,
   "id": "6d2b308d-ffa4-4f48-adab-e218d7da0046",
   "metadata": {},
   "outputs": [
    {
     "name": "stdout",
     "output_type": "stream",
     "text": [
      "cpu\n"
     ]
    }
   ],
   "source": [
    "#set device\n",
    "device = torch.device('cuda' if torch.cuda.is_available() else 'cpu')  \n",
    "print(device)"
   ]
  },
  {
   "cell_type": "code",
   "execution_count": 6,
   "id": "643edca5",
   "metadata": {},
   "outputs": [],
   "source": [
    "#делаем из данных матрицу векторов-атомов, список рёбер (edge_index) и матрицу векторов-рёбер\n",
    "def simple_preprocessing(batch):\n",
    "    #spherical_radii = torch.Tensor(batch['spherical_domain_radii'])\n",
    "    #spherical_radii = my_reshape(spherical_radii)\n",
    "    \n",
    "#     tags = batch['space_group'].long().to(device)\n",
    "#     tags = F.one_hot(tags, num_classes=230)\n",
    "    \n",
    "    atom_numbers = batch['atomic_numbers'].long().to(device)\n",
    "    atom_numbers = F.one_hot(atom_numbers, num_classes=100)\n",
    "    \n",
    "    voronoi_volumes = batch['voronoi_volumes'].float().to(device)\n",
    "    voronoi_volumes = my_reshape(voronoi_volumes)\n",
    "    \n",
    "    atom_features = (atom_numbers, voronoi_volumes) # spherical_radii)\n",
    "    \n",
    "#     print(f'tags: {tags.shape}, atom_numbers: {atom_numbers.shape}, voronoi_volumes: {voronoi_volumes.shape}')\n",
    "    atom_embeds = torch.cat(atom_features, 1)\n",
    "    \n",
    "    edge_index = batch['edge_index_new'].long().to(device)\n",
    "    \n",
    "    distances = batch['distances_new'].float().to(device)\n",
    "    distances = my_reshape(distances)\n",
    "    \n",
    "    angles = batch['contact_solid_angles'].float().to(device)\n",
    "    angles = my_reshape(angles)\n",
    "    \n",
    "    edges_embeds = torch.cat((distances, angles), 1)\n",
    "    \n",
    "    \n",
    "    return Data(x=atom_embeds.to(device), edge_index=edge_index.to(device), edge_attr=edges_embeds.to(device))"
   ]
  },
  {
   "cell_type": "code",
   "execution_count": 7,
   "id": "e84dea83",
   "metadata": {},
   "outputs": [],
   "source": [
    "#датасет, который умеет возвращать эелемент и собственную длину\n",
    "class Dataset(Dataset):\n",
    "\n",
    "    def __init__(self, data, features_fields, target_field, type_='train', preprocessing=simple_preprocessing):\n",
    "        \n",
    "        self.data = data\n",
    "        self.length = len(self.data)\n",
    "        #self.target = data[target_field]\n",
    "        self.type_ = type_\n",
    "        self.preprocessing = preprocessing\n",
    "        self.target = target_field\n",
    "\n",
    "    def __len__(self):\n",
    "        return self.length\n",
    "\n",
    "    def __getitem__(self, index):\n",
    "        \n",
    "        system = self.preprocessing(self.data[index])\n",
    "        \n",
    "        if self.type_ == 'train':\n",
    "            y = self.data[index][self.target]\n",
    "            \n",
    "            return system, y"
   ]
  },
  {
   "cell_type": "code",
   "execution_count": 8,
   "id": "81347061-e7ae-4ed8-8957-d430e1443c00",
   "metadata": {},
   "outputs": [],
   "source": [
    "batch_size = 50\n",
    "num_workers = 0\n",
    "\n",
    "features_cols = ['atomic_numbers', 'edge_index_new', 'distances_new', \n",
    "                 'contact_solid_angles', 'space_group', 'voronoi_volumes', 'spherical_domain_radii']\n",
    "\n",
    "target_col = 'band_gap'"
   ]
  },
  {
   "cell_type": "code",
   "execution_count": 9,
   "id": "17d160fe-787f-46cd-aaec-762df426e0df",
   "metadata": {},
   "outputs": [],
   "source": [
    "train_dataset_file = lmdb_dataset(\"dataset/data_mod.lmdb\")"
   ]
  },
  {
   "cell_type": "code",
   "execution_count": 10,
   "id": "7649b7ee-c82c-4a5a-95ff-90c3e3037a2a",
   "metadata": {},
   "outputs": [
    {
     "name": "stdout",
     "output_type": "stream",
     "text": [
      "total entries: 2032\n",
      "info for item: 0\n",
      "sid:......................       <class 'str'>.....         7\n",
      "cell:.....................<class 'torch.Tensor'>..... [1, 3, 3]\n",
      "natoms:...................<class 'torch.Tensor'>.....       [1]\n",
      "atomic_numbers:...........<class 'torch.Tensor'>.....      [16]\n",
      "pos:......................<class 'torch.Tensor'>.....   [16, 3]\n",
      "band_gap:.................<class 'torch.Tensor'>.....       [1]\n",
      "energy_above_hull:........<class 'torch.Tensor'>.....       [1]\n",
      "space_group:..............<class 'torch.Tensor'>.....       [1]\n",
      "voronoi_volumes:..........<class 'torch.Tensor'>.....      [16]\n",
      "voronoi_surface_areas:....<class 'torch.Tensor'>.....      [16]\n",
      "spherical_domain_radii:...<class 'torch.Tensor'>.....      [16]\n",
      "cell_offsets_new:.........<class 'torch.Tensor'>.....  [224, 3]\n",
      "distances_new:............<class 'torch.Tensor'>.....     [224]\n",
      "contact_solid_angles:.....<class 'torch.Tensor'>.....     [224]\n",
      "direct_neighbor:..........<class 'torch.Tensor'>.....     [224]\n",
      "edge_index_new:...........<class 'torch.Tensor'>.....  [2, 224]\n"
     ]
    }
   ],
   "source": [
    "train_dataset_file.describe()"
   ]
  },
  {
   "cell_type": "code",
   "execution_count": 11,
   "id": "032f276d-9ac4-4b06-931a-728f6b333129",
   "metadata": {},
   "outputs": [
    {
     "data": {
      "text/plain": [
       "230"
      ]
     },
     "execution_count": 11,
     "metadata": {},
     "output_type": "execute_result"
    }
   ],
   "source": [
    "space_groups = []\n",
    "for system in train_dataset_file:\n",
    "    space_groups.append(int(system['space_group'][0]))\n",
    "len(set(space_groups))\n",
    "sorted(space_groups)[-1]"
   ]
  },
  {
   "cell_type": "code",
   "execution_count": 12,
   "id": "adf8ed5d-ba8c-44e7-a343-1e7092ffca14",
   "metadata": {},
   "outputs": [],
   "source": [
    "#инициализируем тренировочный датасети и тренировочный итератор\n",
    "train_dataset_file_path = os.path.expanduser(\"dataset/data_mod.lmdb\")\n",
    "\n",
    "train = lmdb_dataset(train_dataset_file_path)\n",
    "\n",
    "train_dataset, val_dataset = train_test_split(train, test_size=0.15)\n",
    "\n",
    "training_set = Dataset(train_dataset, features_cols, target_col)\n",
    "training_generator = DataLoader(training_set, batch_size=batch_size, num_workers=num_workers)"
   ]
  },
  {
   "cell_type": "code",
   "execution_count": 13,
   "id": "ae852e60-b1ac-4a48-8120-af94ecec6967",
   "metadata": {},
   "outputs": [],
   "source": [
    "#инициализируем валидационный датасет и валидационный итератор\n",
    "# val_dataset_file_path = os.path.expanduser(\"../../ocp_datasets/data/is2re/all/val_ood_cat/data_mod.lmdb\")\n",
    "\n",
    "valid_set = Dataset(val_dataset, features_cols, target_col)\n",
    "valid_generator = DataLoader(valid_set, batch_size=batch_size, num_workers=num_workers)"
   ]
  },
  {
   "cell_type": "raw",
   "id": "53ac4f76-6635-4ee8-b3dd-950e5182371d",
   "metadata": {},
   "source": [
    "df_train = lmdb_dataset(train_dataset_file_path)\n",
    "print(simple_preprocessing(df_train[0]))"
   ]
  },
  {
   "cell_type": "raw",
   "id": "bd7e5545-9ceb-494a-87e9-7dbc829f4c28",
   "metadata": {},
   "source": [
    "print(training_set[0])"
   ]
  },
  {
   "cell_type": "markdown",
   "id": "f1c8f958",
   "metadata": {},
   "source": [
    "$$\n",
    "\\mathbf{x}_i^{(k)} = \\gamma^{(k)} \\left( \\mathbf{x}_i^{(k-1)}, \\square_{j \\in \\mathcal{N}(i)} \\, \\phi^{(k)}\\left(\\mathbf{x}_i^{(k-1)}, \\mathbf{x}_j^{(k-1)},\\mathbf{e}_{j,i}\\right) \\right)\n",
    "$$"
   ]
  },
  {
   "cell_type": "markdown",
   "id": "8672a07d",
   "metadata": {},
   "source": [
    "Гамма лежит в апдейт, квадратик в aggr, а фи в месседж; в этом примере гамма и фи -- умножение на матрицу после конкатенации, а квадратик -- суммирование"
   ]
  },
  {
   "cell_type": "raw",
   "id": "c58b046b-6b22-4286-84bf-ebb5576956ae",
   "metadata": {},
   "source": [
    "class GConv(MessagePassing):"
   ]
  },
  {
   "cell_type": "code",
   "execution_count": 14,
   "id": "4ae848d1",
   "metadata": {
    "tags": []
   },
   "outputs": [],
   "source": [
    "class GConv(MessagePassing):\n",
    "    def __init__(self, dim_atom=103, dim_edge=2, out_channels=2):\n",
    "        super(GConv, self).__init__(aggr='add')  # \"Add\" aggregation\n",
    "        self.phi_output = 3\n",
    "        self.lin_phi = torch.nn.Linear(dim_atom*2+dim_edge, self.phi_output, bias=False)\n",
    "        self.lin_gamma = torch.nn.Linear(dim_atom + self.phi_output, out_channels, bias=False)\n",
    "        self.nonlin = nn.Sigmoid()\n",
    "\n",
    "    def forward(self, batch):\n",
    "        x = batch['x']\n",
    "        edge_index = batch['edge_index']\n",
    "        edge_attr = batch['edge_attr']\n",
    "        \n",
    "        # x has shape [N -- количество атомов в системе(батче), in_channels -- размерность вектора-атома]\n",
    "        # edge_index has shape [2, E] -- каждое ребро задаётся парой вершин\n",
    "\n",
    "        # Start propagating messages. \n",
    "    \n",
    "        return self.propagate(edge_index, x=x, edge_attr=edge_attr, size=None)  #не совсем понял что такое сайз\n",
    "\n",
    "    def message(self, x, x_i, x_j, edge_attr):\n",
    "        concatenated = torch.cat((x_i, x_j, edge_attr), 1)\n",
    "        phi = self.lin_phi(concatenated)\n",
    "        phi = self.nonlin(phi)\n",
    "        return phi\n",
    "        \n",
    "    def update(self, aggr_out, x, edge_attr, edge_index):\n",
    "                \n",
    "        concatenated = torch.cat((x, aggr_out), 1)\n",
    "        gamma = self.lin_gamma(concatenated)\n",
    "        gamma = self.nonlin(gamma)\n",
    "\n",
    "        return Data(x=gamma, edge_attr=edge_attr, edge_index=edge_index)"
   ]
  },
  {
   "cell_type": "raw",
   "id": "7afde0d3-d30e-479a-bd43-2625eb632d64",
   "metadata": {},
   "source": [
    "#собственно нейросеть"
   ]
  },
  {
   "cell_type": "code",
   "execution_count": 15,
   "id": "9e1232c9",
   "metadata": {
    "tags": []
   },
   "outputs": [],
   "source": [
    "class ConvNN(nn.Module):\n",
    "    \n",
    "    def __init__(self, dim_atom=103, dim_edge=2):\n",
    "        \n",
    "        super().__init__()          \n",
    "        self.conv_1 = GConv(dim_atom=dim_atom, dim_edge=dim_edge, out_channels=dim_atom)\n",
    "#         self.conv_2 = GConv(dim_atom=dim_atom, dim_edge=dim_edge, out_channels=dim_atom)\n",
    "#         self.conv_3 = GConv(dim_atom=dim_atom, dim_edge=dim_edge, out_channels=dim_atom)\n",
    "#         self.conv_4 = GConv(dim_atom=dim_atom, dim_edge=dim_edge, out_channels=dim_atom)\n",
    "#         self.conv_5 = GConv(dim_atom=dim_atom, dim_edge=dim_edge, out_channels=dim_atom)\n",
    "        self.conv_last = GConv(dim_atom=dim_atom, dim_edge=dim_edge, out_channels=2)\n",
    "        \n",
    "#         self.lin1 = torch.nn.Linear(128, 64, bias=True)\n",
    "#         self.lin2 = torch.nn.Linear(64, 32, bias=True)\n",
    "#         self.lin3 = torch.nn.Linear(32, 16, bias=True)\n",
    "        self.lin = torch.nn.Linear(2, 1, bias=True)\n",
    "        \n",
    "    def forward(self, batch):\n",
    "        convoluted_1 = self.conv_1(batch)\n",
    "#         convoluted_2 = self.conv_2(convoluted_1)\n",
    "#         convoluted_3 = self.conv_3(convoluted_2)\n",
    "#         convoluted_4 = self.conv_4(convoluted_3)\n",
    "#         convoluted_5 = self.conv_5(convoluted_4)\n",
    "        convoluted_last = self.conv_last(batch)['x']\n",
    "        scattered = scatter(convoluted_last, batch['batch'], dim=0, reduce='sum')\n",
    "        summed = scattered\n",
    "        energy = self.lin(summed)\n",
    "        \n",
    "        return energy"
   ]
  },
  {
   "cell_type": "code",
   "execution_count": 16,
   "id": "20798f12",
   "metadata": {},
   "outputs": [],
   "source": [
    "def send_scalars(lr, loss, writer, step=-1, epoch=-1, type_='train'):\n",
    "    if type_ == 'train':\n",
    "        writer.add_scalar('lr per step on train', lr, step) \n",
    "        writer.add_scalar('loss per step on train', loss, step)\n",
    "    if type_ == 'val':\n",
    "        writer.add_scalar('loss per epoch on val', loss, epoch)"
   ]
  },
  {
   "cell_type": "code",
   "execution_count": 17,
   "id": "862b1102",
   "metadata": {},
   "outputs": [],
   "source": [
    "def send_hist(model, writer, step):\n",
    "    for name, weight in model.named_parameters():\n",
    "        writer.add_histogram(name, weight, step)"
   ]
  },
  {
   "cell_type": "raw",
   "id": "99401864-6bb6-4168-b818-80bc7d662154",
   "metadata": {},
   "source": [
    "#train -- ходим по батчам из итератора, обнуляем градиенты, предсказываем у, считаем лосс, считаем градиенты, делаем шаг оптимайзера, записываем лосс"
   ]
  },
  {
   "cell_type": "code",
   "execution_count": 18,
   "id": "bc9d7343",
   "metadata": {
    "tags": []
   },
   "outputs": [],
   "source": [
    "def train(model, iterator, optimizer, criterion, print_every=10, epoch=0, writer=None):\n",
    "    \n",
    "    epoch_loss = 0\n",
    "    \n",
    "    model.train()\n",
    "\n",
    "    for i, (systems, ys) in enumerate(iterator):\n",
    "        \n",
    "        optimizer.zero_grad()\n",
    "        predictions = model(systems).squeeze()\n",
    "        \n",
    "        loss = criterion(predictions.float(), ys.to(device).float())\n",
    "        loss.backward()     \n",
    "        \n",
    "        optimizer.step()\n",
    "        \n",
    "        batch_loss = loss.item() \n",
    "        epoch_loss += batch_loss  \n",
    "        \n",
    "        if writer != None:\n",
    "            \n",
    "            lr = optimizer.param_groups[0]['lr']\n",
    "            \n",
    "            step = i + epoch*len(iterator)\n",
    "            \n",
    "            send_hist(model, writer, i)\n",
    "            send_scalars(lr, batch_loss, writer, step=step, epoch=epoch, type_='train')\n",
    "        \n",
    "        if not (i+1) % print_every:\n",
    "            print(f'step {i} from {len(iterator)} at epoch {epoch}')\n",
    "            print(f'Loss: {batch_loss}')\n",
    "        \n",
    "    return epoch_loss / len(iterator)"
   ]
  },
  {
   "cell_type": "raw",
   "id": "a71097c6-4fb3-4d80-9730-a80b7de14ddf",
   "metadata": {},
   "source": [
    "def evaluate(model, iterator, criterion, epoch=0, writer=False):"
   ]
  },
  {
   "cell_type": "code",
   "execution_count": 19,
   "id": "1a8e76f3",
   "metadata": {
    "tags": []
   },
   "outputs": [],
   "source": [
    "def evaluate(model, iterator, criterion, epoch=0, writer=False):\n",
    "    \n",
    "    epoch_loss = 0\n",
    "    \n",
    "#    model.train(False)\n",
    "    model.eval()  \n",
    "    \n",
    "    with torch.no_grad():\n",
    "        for systems, ys in iterator:   \n",
    "\n",
    "            predictions = model(systems).squeeze()\n",
    "            loss = criterion(predictions.float(), ys.to(device).float())        \n",
    "\n",
    "            epoch_loss += loss.item()\n",
    "            \n",
    "    overall_loss = epoch_loss / len(iterator)\n",
    "\n",
    "    if writer != None:\n",
    "        send_scalars(None, overall_loss, writer, step=None, epoch=epoch, type_='val')\n",
    "                \n",
    "    print(f'epoch loss {overall_loss}')\n",
    "            \n",
    "    return overall_loss"
   ]
  },
  {
   "cell_type": "code",
   "execution_count": 20,
   "id": "31952209",
   "metadata": {},
   "outputs": [],
   "source": [
    "def inferens(model, iterator):\n",
    "    y = torch.tensor([])\n",
    "\n",
    "#    model.train(False)\n",
    "    model.eval()  \n",
    "    \n",
    "    with torch.no_grad():\n",
    "        for systems, ys in iterator:   \n",
    "            predictions = model(systemhs).squeeze()\n",
    "            y = torch.cat((y, predictions))\n",
    "      \n",
    "    return y"
   ]
  },
  {
   "cell_type": "markdown",
   "id": "45c98223",
   "metadata": {},
   "source": [
    "## DATA"
   ]
  },
  {
   "cell_type": "raw",
   "id": "0444908e-65d1-406d-8cab-c161b34ea518",
   "metadata": {},
   "source": [
    "def read_df(filename):    \n",
    "\n",
    "    with open(filename, 'rb') as f:\n",
    "        data_ori = pickle.load(f)\n",
    "    \n",
    "    #сливаем новые фичи и фичи из Data\n",
    "    for system in data_ori:\n",
    "        for key in system['data']:\n",
    "            system[key[0]] = key[1]\n",
    "        del system['data']\n",
    "        \n",
    "    df = pd.DataFrame(data_ori)\n",
    "    data_ori=[]\n",
    "    print(df.columns)\n",
    "    \n",
    "    return df"
   ]
  },
  {
   "cell_type": "code",
   "execution_count": 21,
   "id": "c6b90d4c",
   "metadata": {},
   "outputs": [],
   "source": [
    "df_train = []\n",
    "df_val = []"
   ]
  },
  {
   "cell_type": "markdown",
   "id": "5d0ca059",
   "metadata": {
    "tags": []
   },
   "source": [
    "## MODEL"
   ]
  },
  {
   "cell_type": "code",
   "execution_count": 22,
   "id": "f93e4f0a",
   "metadata": {},
   "outputs": [],
   "source": [
    "#model\n",
    "model = ConvNN(dim_atom=training_set[0][0].x.shape[1], dim_edge=training_set[0][0].edge_attr.shape[1])\n",
    "\n",
    "#optimizer and loss\n",
    "optimizer = optim.Adam(model.parameters(), lr=0.001)\n",
    "criterion = nn.L1Loss()\n",
    "\n",
    "#переносим на куду если она есть\n",
    "model = model.to(device)\n",
    "criterion = criterion.to(device)"
   ]
  },
  {
   "cell_type": "code",
   "execution_count": 23,
   "id": "bc1c0ccd",
   "metadata": {},
   "outputs": [
    {
     "name": "stdout",
     "output_type": "stream",
     "text": [
      "2021-09-24-18-10-45\n"
     ]
    }
   ],
   "source": [
    "timestamp = str(datetime.now().strftime(\"%Y-%m-%d-%H-%M-%S\"))\n",
    "\n",
    "print(timestamp)"
   ]
  },
  {
   "cell_type": "code",
   "execution_count": 24,
   "id": "9a1cbede",
   "metadata": {},
   "outputs": [],
   "source": [
    "#tensorboard writer, при первом запуске надо руками сделать папку для логов\n",
    "\n",
    "# server\n",
    "#log_folder_path = \"../../ocp_results/logs/tensorboard/out_base_model\"\n",
    "\n",
    "# colab\n",
    "# log_folder_path = \"/content/drive/MyDrive/ocp_results/logs/tensorboard/out_base_model\"\n",
    "\n",
    "# user_specific \n",
    "log_file_path = \"../logs/tensorboard_airi\"\n",
    "\n",
    "writer = SummaryWriter(log_file_path + '/' + timestamp)"
   ]
  },
  {
   "cell_type": "code",
   "execution_count": 25,
   "id": "e477b770",
   "metadata": {},
   "outputs": [],
   "source": [
    "#граф модели\n",
    "trace_system = dict(list(next(iter(training_generator))[0]))\n",
    "writer.add_graph(model, trace_system)"
   ]
  },
  {
   "cell_type": "markdown",
   "id": "0aca95f2",
   "metadata": {},
   "source": [
    "## Training"
   ]
  },
  {
   "cell_type": "code",
   "execution_count": 26,
   "id": "6ca6c6fd",
   "metadata": {
    "scrolled": true
   },
   "outputs": [
    {
     "name": "stdout",
     "output_type": "stream",
     "text": [
      "2021-09-24-18-10-45\n",
      "Start training model ConvNN(\n",
      "  (conv_1): GConv(\n",
      "    (lin_phi): Linear(in_features=204, out_features=3, bias=False)\n",
      "    (lin_gamma): Linear(in_features=104, out_features=101, bias=False)\n",
      "    (nonlin): Sigmoid()\n",
      "  )\n",
      "  (conv_2): GConv(\n",
      "    (lin_phi): Linear(in_features=204, out_features=3, bias=False)\n",
      "    (lin_gamma): Linear(in_features=104, out_features=101, bias=False)\n",
      "    (nonlin): Sigmoid()\n",
      "  )\n",
      "  (conv_last): GConv(\n",
      "    (lin_phi): Linear(in_features=204, out_features=3, bias=False)\n",
      "    (lin_gamma): Linear(in_features=104, out_features=2, bias=False)\n",
      "    (nonlin): Sigmoid()\n",
      "  )\n",
      "  (lin): Linear(in_features=2, out_features=1, bias=True)\n",
      ")\n",
      "epoch 0\n"
     ]
    },
    {
     "name": "stderr",
     "output_type": "stream",
     "text": [
      "/usr/local/Caskroom/miniforge/base/envs/ocp_models/lib/python3.8/site-packages/torch/nn/modules/loss.py:96: UserWarning: Using a target size (torch.Size([50, 1])) that is different to the input size (torch.Size([50])). This will likely lead to incorrect results due to broadcasting. Please ensure they have the same size.\n",
      "  return F.l1_loss(input, target, reduction=self.reduction)\n"
     ]
    },
    {
     "name": "stdout",
     "output_type": "stream",
     "text": [
      "step 9 from 35 at epoch 0\n",
      "Loss: 13.505485534667969\n",
      "step 19 from 35 at epoch 0\n",
      "Loss: 11.185708999633789\n",
      "step 29 from 35 at epoch 0\n",
      "Loss: 8.03267765045166\n"
     ]
    },
    {
     "name": "stderr",
     "output_type": "stream",
     "text": [
      "/usr/local/Caskroom/miniforge/base/envs/ocp_models/lib/python3.8/site-packages/torch/nn/modules/loss.py:96: UserWarning: Using a target size (torch.Size([27, 1])) that is different to the input size (torch.Size([27])). This will likely lead to incorrect results due to broadcasting. Please ensure they have the same size.\n",
      "  return F.l1_loss(input, target, reduction=self.reduction)\n",
      "/usr/local/Caskroom/miniforge/base/envs/ocp_models/lib/python3.8/site-packages/torch/nn/modules/loss.py:96: UserWarning: Using a target size (torch.Size([5, 1])) that is different to the input size (torch.Size([5])). This will likely lead to incorrect results due to broadcasting. Please ensure they have the same size.\n",
      "  return F.l1_loss(input, target, reduction=self.reduction)\n"
     ]
    },
    {
     "name": "stdout",
     "output_type": "stream",
     "text": [
      "epoch loss 6.6176847730364114\n",
      "epoch 1\n",
      "step 9 from 35 at epoch 1\n",
      "Loss: 5.725643157958984\n",
      "step 19 from 35 at epoch 1\n",
      "Loss: 3.9488937854766846\n",
      "step 29 from 35 at epoch 1\n",
      "Loss: 2.910714864730835\n",
      "epoch loss 2.581615379878453\n",
      "epoch 2\n",
      "step 9 from 35 at epoch 2\n",
      "Loss: 2.636263608932495\n",
      "step 19 from 35 at epoch 2\n",
      "Loss: 2.186145544052124\n",
      "step 29 from 35 at epoch 2\n",
      "Loss: 1.7844165563583374\n",
      "epoch loss 1.7613303831645422\n",
      "epoch 3\n",
      "step 9 from 35 at epoch 3\n",
      "Loss: 1.8791090250015259\n",
      "step 19 from 35 at epoch 3\n",
      "Loss: 1.7267062664031982\n",
      "step 29 from 35 at epoch 3\n",
      "Loss: 1.4431432485580444\n",
      "epoch loss 1.4803387096949987\n",
      "epoch 4\n",
      "step 9 from 35 at epoch 4\n",
      "Loss: 1.5696067810058594\n",
      "step 19 from 35 at epoch 4\n",
      "Loss: 1.5124157667160034\n",
      "step 29 from 35 at epoch 4\n",
      "Loss: 1.2671997547149658\n",
      "epoch loss 1.3094405787331718\n",
      "epoch 5\n",
      "step 9 from 35 at epoch 5\n",
      "Loss: 1.3893499374389648\n",
      "step 19 from 35 at epoch 5\n",
      "Loss: 1.3770252466201782\n",
      "step 29 from 35 at epoch 5\n",
      "Loss: 1.1499930620193481\n",
      "epoch loss 1.1941215991973877\n",
      "epoch 6\n",
      "step 9 from 35 at epoch 6\n",
      "Loss: 1.2650834321975708\n",
      "step 19 from 35 at epoch 6\n",
      "Loss: 1.2776508331298828\n",
      "step 29 from 35 at epoch 6\n",
      "Loss: 1.0614242553710938\n",
      "epoch loss 1.1126234190804618\n",
      "epoch 7\n",
      "step 9 from 35 at epoch 7\n",
      "Loss: 1.169860601425171\n",
      "step 19 from 35 at epoch 7\n",
      "Loss: 1.197933554649353\n",
      "step 29 from 35 at epoch 7\n",
      "Loss: 0.9887264370918274\n",
      "epoch loss 1.0450382573263985\n",
      "epoch 8\n",
      "step 9 from 35 at epoch 8\n",
      "Loss: 1.0913476943969727\n",
      "step 19 from 35 at epoch 8\n",
      "Loss: 1.129959225654602\n",
      "step 29 from 35 at epoch 8\n",
      "Loss: 0.9257155060768127\n",
      "epoch loss 0.985661506652832\n",
      "epoch 9\n",
      "step 9 from 35 at epoch 9\n",
      "Loss: 1.0234365463256836\n",
      "step 19 from 35 at epoch 9\n",
      "Loss: 1.0696322917938232\n",
      "step 29 from 35 at epoch 9\n",
      "Loss: 0.8691011667251587\n",
      "epoch loss 0.9317114182880947\n",
      "CPU times: user 45.8 s, sys: 4.98 s, total: 50.8 s\n",
      "Wall time: 26.3 s\n"
     ]
    }
   ],
   "source": [
    "%%time\n",
    "loss = []\n",
    "loss_eval = []\n",
    "epochs = 10\n",
    "print(timestamp)\n",
    "print(f'Start training model {str(model)}')\n",
    "for i in range(epochs):\n",
    "    print(f'epoch {i}')\n",
    "    loss.append(train(model, training_generator, optimizer, criterion, epoch=i, writer=writer))\n",
    "    loss_eval.append(evaluate(model, valid_generator, criterion, epoch=i, writer=writer))"
   ]
  }
 ],
 "metadata": {
  "kernelspec": {
   "display_name": "ocp_models",
   "language": "python",
   "name": "ocp_models"
  },
  "language_info": {
   "codemirror_mode": {
    "name": "ipython",
    "version": 3
   },
   "file_extension": ".py",
   "mimetype": "text/x-python",
   "name": "python",
   "nbconvert_exporter": "python",
   "pygments_lexer": "ipython3",
   "version": "3.8.10"
  }
 },
 "nbformat": 4,
 "nbformat_minor": 5
}
